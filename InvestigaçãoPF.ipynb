{
  "nbformat": 4,
  "nbformat_minor": 0,
  "metadata": {
    "colab": {
      "provenance": [],
      "mount_file_id": "1YDvzdsSG8dZoVDxUEYa7BLDnqqw9K7fT",
      "authorship_tag": "ABX9TyO96Uby8I47Q72Py8tx7Nng",
      "include_colab_link": true
    },
    "kernelspec": {
      "name": "python3",
      "display_name": "Python 3"
    },
    "language_info": {
      "name": "python"
    }
  },
  "cells": [
    {
      "cell_type": "markdown",
      "metadata": {
        "id": "view-in-github",
        "colab_type": "text"
      },
      "source": [
        "<a href=\"https://colab.research.google.com/github/mussolin123/Deflagra-es-PRF/blob/main/Investiga%C3%A7%C3%A3oPF.ipynb\" target=\"_parent\"><img src=\"https://colab.research.google.com/assets/colab-badge.svg\" alt=\"Open In Colab\"/></a>"
      ]
    },
    {
      "cell_type": "markdown",
      "source": [
        "**PALAS - Sistema de informações de investigação**\n",
        "Contém número de operações deflagradas, bens e/ou valores apreendidos, armas e munições apreendidas, quantidade de presos, quantidade de Mandados de Busca e Apreensão/Prisão. Fonte: https://servicos.dpf.gov.br/dadosabertos/PALAS/"
      ],
      "metadata": {
        "id": "hCfydHUkH2pN"
      }
    },
    {
      "cell_type": "markdown",
      "source": [
        "**Importação da Lib Pandas e do Google Drive**:"
      ],
      "metadata": {
        "id": "r4Q8CXBFiPTq"
      }
    },
    {
      "cell_type": "code",
      "source": [
        "from google.colab import drive #importando google drive\n",
        "drive.mount('/drive') #\"ponte\" entre o ambiente Python e o Google Drive"
      ],
      "metadata": {
        "colab": {
          "base_uri": "https://localhost:8080/"
        },
        "id": "bGSmiIga25ie",
        "outputId": "52dfebda-f99f-4c69-8f0a-e1e3fde4528c"
      },
      "execution_count": null,
      "outputs": [
        {
          "output_type": "stream",
          "name": "stdout",
          "text": [
            "Mounted at /drive\n"
          ]
        }
      ]
    },
    {
      "cell_type": "code",
      "execution_count": null,
      "metadata": {
        "id": "qA92NcP-M_nb"
      },
      "outputs": [],
      "source": [
        "import pandas as pd #importando a biblioteca pandas"
      ]
    },
    {
      "cell_type": "code",
      "source": [
        "base_dir = '/drive/MyDrive/ColabNotebooks/' #define o caminho base para os arquivos que você desejamos acessar"
      ],
      "metadata": {
        "id": "7-i-jyZr_0fn"
      },
      "execution_count": null,
      "outputs": []
    },
    {
      "cell_type": "markdown",
      "source": [
        "**Importação e Concatenação das bases de dados da PRF**"
      ],
      "metadata": {
        "id": "HjLk-NwoiMvk"
      }
    },
    {
      "cell_type": "code",
      "source": [
        "dataframes = [] #esse comando cria uma lista vazia chamada \"dataframes\".\n",
        "bases = [] #Importando e Concatenando Múltiplos Arquivos CSV, o \"{1}\" faz com que mude o n° de cada arquivo (1 a 12)\n",
        "\n",
        "for i in [\"01\", \"02\", \"03\", \"04\", \"05\", \"06\", \"07\", \"08\", \"09\", \"10\", \"11\", \"12\"] :\n",
        "  bases.append(pd.read_csv(f'/content/drive/MyDrive/ColabNotebooks/PALAS_OPERACOES_2023_{i}.csv', encoding = \"latin-1\", sep = \";\"))\n",
        "  df = pd.concat(bases) #concatena múltiplos DataFrames (tabelas) em um único DataFrame, essencialmente \"empilhando-os\" um em cima do outro."
      ],
      "metadata": {
        "id": "VaNp6skrbg9A"
      },
      "execution_count": null,
      "outputs": []
    },
    {
      "cell_type": "markdown",
      "source": [
        "**Listagem da Base de Dados concatenada**"
      ],
      "metadata": {
        "id": "zxs5cbntqggS"
      }
    },
    {
      "cell_type": "code",
      "source": [
        "  df # df: É a variável que irá armazenar o novo DataFrame, ao executar, visualizamos a base atualizada"
      ],
      "metadata": {
        "id": "-PiJquIPqRvR",
        "colab": {
          "base_uri": "https://localhost:8080/",
          "height": 756
        },
        "outputId": "a1a193df-fd5a-45c0-f34a-1b362598582f"
      },
      "execution_count": null,
      "outputs": [
        {
          "output_type": "execute_result",
          "data": {
            "text/plain": [
              "                 Checksum Id Operacao Data do Inicio Data da Deflagracao  \\\n",
              "0    bfc7c84548103732a8d67831f215ed0f     21/05/2021          31/01/2023   \n",
              "1    f6ac50db92ee769cf0c39183f5fbf706     22/08/2022          31/01/2023   \n",
              "2    c31373f90e083cc48bad81f51dab0363     26/09/2022          31/01/2023   \n",
              "3    569bcb7625d0679e8475d8a5e9cafbf1     25/10/2022          31/01/2023   \n",
              "4    1ac6259c3a13e18313ccb3b0bbf21733     30/01/2023          31/01/2023   \n",
              "..                                ...            ...                 ...   \n",
              "681  818d725171c868e5bc58c82794c408f2     02/12/2023          02/12/2023   \n",
              "682  8ad439a301c8178f63f271abc3687940     02/12/2023          02/12/2023   \n",
              "683  4aaac55b37f3522763699c33a10d7f9a     02/12/2023          02/12/2023   \n",
              "684  3d8858b9b87e533499f4f3cf562aba81     02/12/2023          02/12/2023   \n",
              "685  f8be22b5f7a9c77c22686ce463e21b77     02/12/2023          02/12/2023   \n",
              "\n",
              "      Tipo de Operacao                                               Area  \\\n",
              "0    Operacao Especial  Crimes Fazendários                            ...   \n",
              "1    Operacao Especial  Crimes Fazendários                            ...   \n",
              "2    Operacao Especial  Crimes Fazendários                            ...   \n",
              "3    Operacao Especial  Tráfico de Drogas                             ...   \n",
              "4    Operacao Simples   Tráfico de Drogas                             ...   \n",
              "..                 ...                                                ...   \n",
              "681  Operacao de Apoio  Tráfico de Drogas                             ...   \n",
              "682  Operacao Simples   Tráfico de Drogas                             ...   \n",
              "683  Operacao Simples   Tráfico de Drogas                             ...   \n",
              "684  Operacao Simples   Crimes Fazendários                            ...   \n",
              "685  Operacao Simples   Tráfico de Drogas                             ...   \n",
              "\n",
              "    Sigla Unidade Federativa  \\\n",
              "0                         GO   \n",
              "1                         MS   \n",
              "2                         RN   \n",
              "3                         AP   \n",
              "4                         PR   \n",
              "..                       ...   \n",
              "681                       SE   \n",
              "682                       RJ   \n",
              "683                       RJ   \n",
              "684                       SP   \n",
              "685                       SP   \n",
              "\n",
              "                           Sigla Unidade Institucional  \\\n",
              "0    DPF/JTI/GO                                    ...   \n",
              "1    DPF/PPA/MS                                    ...   \n",
              "2    SR/PF/RN                                      ...   \n",
              "3    SR/PF/AP                                      ...   \n",
              "4    DPF/FIG/PR                                    ...   \n",
              "..                                                 ...   \n",
              "681  SR/PF/SE                                      ...   \n",
              "682  DPF/AIN/RJ                                    ...   \n",
              "683  DPF/AIN/RJ                                    ...   \n",
              "684  DPF/CAS/SP                                    ...   \n",
              "685  DPF/CAS/SP                                    ...   \n",
              "\n",
              "    Atuacao em Territorio Indigena  \\\n",
              "0                              Nao   \n",
              "1                              Nao   \n",
              "2                              Nao   \n",
              "3                              Nao   \n",
              "4                              Nao   \n",
              "..                             ...   \n",
              "681                            Nao   \n",
              "682                            Nao   \n",
              "683                            Nao   \n",
              "684                            Nao   \n",
              "685                            Nao   \n",
              "\n",
              "                    Atuacao em Territorio de Fronteira  \\\n",
              "0                                                  ...   \n",
              "1    Paraguai                                      ...   \n",
              "2                                                  ...   \n",
              "3                                                  ...   \n",
              "4    Paraguai                                      ...   \n",
              "..                                                 ...   \n",
              "681                                                ...   \n",
              "682                                                ...   \n",
              "683                                                ...   \n",
              "684                                                ...   \n",
              "685                                                ...   \n",
              "\n",
              "     Qtd Prisao em Flagrante  ...  Proib Acesso ou Freq  Comparecimento Juizo  \\\n",
              "0                          0  ...                     0                     0   \n",
              "1                          0  ...                     0                     0   \n",
              "2                          0  ...                     0                     0   \n",
              "3                          0  ...                     0                     0   \n",
              "4                          0  ...                     0                     0   \n",
              "..                       ...  ...                   ...                   ...   \n",
              "681                        0  ...                     0                     0   \n",
              "682                        1  ...                     0                     0   \n",
              "683                        1  ...                     0                     0   \n",
              "684                        0  ...                     0                     0   \n",
              "685                        2  ...                     0                     0   \n",
              "\n",
              "     Qtd Fianca Qtd Internacao Prov  Proib Contato Mand Jud Caut Assec  \\\n",
              "0             0                   0              0                   0   \n",
              "1             0                   0              0                   0   \n",
              "2             0                   0              0                   0   \n",
              "3             0                   0              0                   0   \n",
              "4             0                   0              0                   0   \n",
              "..          ...                 ...            ...                 ...   \n",
              "681           0                   0              0                   0   \n",
              "682           0                   0              0                   0   \n",
              "683           0                   0              0                   0   \n",
              "684           0                   0              0                   0   \n",
              "685           0                   0              0                   0   \n",
              "\n",
              "    Recol Domic Noturno  Susp Ex Func Pub A E  Monit Eletronica  Id Operacao  \n",
              "0                     0                     0                 0          NaN  \n",
              "1                     0                     0                 0          NaN  \n",
              "2                     0                     0                 0          NaN  \n",
              "3                     0                     0                 0          NaN  \n",
              "4                     0                     0                 0          NaN  \n",
              "..                  ...                   ...               ...          ...  \n",
              "681                   0                     0                 0          NaN  \n",
              "682                   0                     0                 0          NaN  \n",
              "683                   0                     0                 0          NaN  \n",
              "684                   0                     0                 0          NaN  \n",
              "685                   0                     0                 0          NaN  \n",
              "\n",
              "[9337 rows x 28 columns]"
            ],
            "text/html": [
              "\n",
              "  <div id=\"df-dec27b26-ae97-4e43-b753-b063faf3bfcc\" class=\"colab-df-container\">\n",
              "    <div>\n",
              "<style scoped>\n",
              "    .dataframe tbody tr th:only-of-type {\n",
              "        vertical-align: middle;\n",
              "    }\n",
              "\n",
              "    .dataframe tbody tr th {\n",
              "        vertical-align: top;\n",
              "    }\n",
              "\n",
              "    .dataframe thead th {\n",
              "        text-align: right;\n",
              "    }\n",
              "</style>\n",
              "<table border=\"1\" class=\"dataframe\">\n",
              "  <thead>\n",
              "    <tr style=\"text-align: right;\">\n",
              "      <th></th>\n",
              "      <th>Checksum Id Operacao</th>\n",
              "      <th>Data do Inicio</th>\n",
              "      <th>Data da Deflagracao</th>\n",
              "      <th>Tipo de Operacao</th>\n",
              "      <th>Area</th>\n",
              "      <th>Sigla Unidade Federativa</th>\n",
              "      <th>Sigla Unidade Institucional</th>\n",
              "      <th>Atuacao em Territorio Indigena</th>\n",
              "      <th>Atuacao em Territorio de Fronteira</th>\n",
              "      <th>Qtd Prisao em Flagrante</th>\n",
              "      <th>...</th>\n",
              "      <th>Proib Acesso ou Freq</th>\n",
              "      <th>Comparecimento Juizo</th>\n",
              "      <th>Qtd Fianca</th>\n",
              "      <th>Qtd Internacao Prov</th>\n",
              "      <th>Proib Contato</th>\n",
              "      <th>Mand Jud Caut Assec</th>\n",
              "      <th>Recol Domic Noturno</th>\n",
              "      <th>Susp Ex Func Pub A E</th>\n",
              "      <th>Monit Eletronica</th>\n",
              "      <th>Id Operacao</th>\n",
              "    </tr>\n",
              "  </thead>\n",
              "  <tbody>\n",
              "    <tr>\n",
              "      <th>0</th>\n",
              "      <td>bfc7c84548103732a8d67831f215ed0f</td>\n",
              "      <td>21/05/2021</td>\n",
              "      <td>31/01/2023</td>\n",
              "      <td>Operacao Especial</td>\n",
              "      <td>Crimes Fazendários                            ...</td>\n",
              "      <td>GO</td>\n",
              "      <td>DPF/JTI/GO                                    ...</td>\n",
              "      <td>Nao</td>\n",
              "      <td>...</td>\n",
              "      <td>0</td>\n",
              "      <td>...</td>\n",
              "      <td>0</td>\n",
              "      <td>0</td>\n",
              "      <td>0</td>\n",
              "      <td>0</td>\n",
              "      <td>0</td>\n",
              "      <td>0</td>\n",
              "      <td>0</td>\n",
              "      <td>0</td>\n",
              "      <td>0</td>\n",
              "      <td>NaN</td>\n",
              "    </tr>\n",
              "    <tr>\n",
              "      <th>1</th>\n",
              "      <td>f6ac50db92ee769cf0c39183f5fbf706</td>\n",
              "      <td>22/08/2022</td>\n",
              "      <td>31/01/2023</td>\n",
              "      <td>Operacao Especial</td>\n",
              "      <td>Crimes Fazendários                            ...</td>\n",
              "      <td>MS</td>\n",
              "      <td>DPF/PPA/MS                                    ...</td>\n",
              "      <td>Nao</td>\n",
              "      <td>Paraguai                                      ...</td>\n",
              "      <td>0</td>\n",
              "      <td>...</td>\n",
              "      <td>0</td>\n",
              "      <td>0</td>\n",
              "      <td>0</td>\n",
              "      <td>0</td>\n",
              "      <td>0</td>\n",
              "      <td>0</td>\n",
              "      <td>0</td>\n",
              "      <td>0</td>\n",
              "      <td>0</td>\n",
              "      <td>NaN</td>\n",
              "    </tr>\n",
              "    <tr>\n",
              "      <th>2</th>\n",
              "      <td>c31373f90e083cc48bad81f51dab0363</td>\n",
              "      <td>26/09/2022</td>\n",
              "      <td>31/01/2023</td>\n",
              "      <td>Operacao Especial</td>\n",
              "      <td>Crimes Fazendários                            ...</td>\n",
              "      <td>RN</td>\n",
              "      <td>SR/PF/RN                                      ...</td>\n",
              "      <td>Nao</td>\n",
              "      <td>...</td>\n",
              "      <td>0</td>\n",
              "      <td>...</td>\n",
              "      <td>0</td>\n",
              "      <td>0</td>\n",
              "      <td>0</td>\n",
              "      <td>0</td>\n",
              "      <td>0</td>\n",
              "      <td>0</td>\n",
              "      <td>0</td>\n",
              "      <td>0</td>\n",
              "      <td>0</td>\n",
              "      <td>NaN</td>\n",
              "    </tr>\n",
              "    <tr>\n",
              "      <th>3</th>\n",
              "      <td>569bcb7625d0679e8475d8a5e9cafbf1</td>\n",
              "      <td>25/10/2022</td>\n",
              "      <td>31/01/2023</td>\n",
              "      <td>Operacao Especial</td>\n",
              "      <td>Tráfico de Drogas                             ...</td>\n",
              "      <td>AP</td>\n",
              "      <td>SR/PF/AP                                      ...</td>\n",
              "      <td>Nao</td>\n",
              "      <td>...</td>\n",
              "      <td>0</td>\n",
              "      <td>...</td>\n",
              "      <td>0</td>\n",
              "      <td>0</td>\n",
              "      <td>0</td>\n",
              "      <td>0</td>\n",
              "      <td>0</td>\n",
              "      <td>0</td>\n",
              "      <td>0</td>\n",
              "      <td>0</td>\n",
              "      <td>0</td>\n",
              "      <td>NaN</td>\n",
              "    </tr>\n",
              "    <tr>\n",
              "      <th>4</th>\n",
              "      <td>1ac6259c3a13e18313ccb3b0bbf21733</td>\n",
              "      <td>30/01/2023</td>\n",
              "      <td>31/01/2023</td>\n",
              "      <td>Operacao Simples</td>\n",
              "      <td>Tráfico de Drogas                             ...</td>\n",
              "      <td>PR</td>\n",
              "      <td>DPF/FIG/PR                                    ...</td>\n",
              "      <td>Nao</td>\n",
              "      <td>Paraguai                                      ...</td>\n",
              "      <td>0</td>\n",
              "      <td>...</td>\n",
              "      <td>0</td>\n",
              "      <td>0</td>\n",
              "      <td>0</td>\n",
              "      <td>0</td>\n",
              "      <td>0</td>\n",
              "      <td>0</td>\n",
              "      <td>0</td>\n",
              "      <td>0</td>\n",
              "      <td>0</td>\n",
              "      <td>NaN</td>\n",
              "    </tr>\n",
              "    <tr>\n",
              "      <th>...</th>\n",
              "      <td>...</td>\n",
              "      <td>...</td>\n",
              "      <td>...</td>\n",
              "      <td>...</td>\n",
              "      <td>...</td>\n",
              "      <td>...</td>\n",
              "      <td>...</td>\n",
              "      <td>...</td>\n",
              "      <td>...</td>\n",
              "      <td>...</td>\n",
              "      <td>...</td>\n",
              "      <td>...</td>\n",
              "      <td>...</td>\n",
              "      <td>...</td>\n",
              "      <td>...</td>\n",
              "      <td>...</td>\n",
              "      <td>...</td>\n",
              "      <td>...</td>\n",
              "      <td>...</td>\n",
              "      <td>...</td>\n",
              "      <td>...</td>\n",
              "    </tr>\n",
              "    <tr>\n",
              "      <th>681</th>\n",
              "      <td>818d725171c868e5bc58c82794c408f2</td>\n",
              "      <td>02/12/2023</td>\n",
              "      <td>02/12/2023</td>\n",
              "      <td>Operacao de Apoio</td>\n",
              "      <td>Tráfico de Drogas                             ...</td>\n",
              "      <td>SE</td>\n",
              "      <td>SR/PF/SE                                      ...</td>\n",
              "      <td>Nao</td>\n",
              "      <td>...</td>\n",
              "      <td>0</td>\n",
              "      <td>...</td>\n",
              "      <td>0</td>\n",
              "      <td>0</td>\n",
              "      <td>0</td>\n",
              "      <td>0</td>\n",
              "      <td>0</td>\n",
              "      <td>0</td>\n",
              "      <td>0</td>\n",
              "      <td>0</td>\n",
              "      <td>0</td>\n",
              "      <td>NaN</td>\n",
              "    </tr>\n",
              "    <tr>\n",
              "      <th>682</th>\n",
              "      <td>8ad439a301c8178f63f271abc3687940</td>\n",
              "      <td>02/12/2023</td>\n",
              "      <td>02/12/2023</td>\n",
              "      <td>Operacao Simples</td>\n",
              "      <td>Tráfico de Drogas                             ...</td>\n",
              "      <td>RJ</td>\n",
              "      <td>DPF/AIN/RJ                                    ...</td>\n",
              "      <td>Nao</td>\n",
              "      <td>...</td>\n",
              "      <td>1</td>\n",
              "      <td>...</td>\n",
              "      <td>0</td>\n",
              "      <td>0</td>\n",
              "      <td>0</td>\n",
              "      <td>0</td>\n",
              "      <td>0</td>\n",
              "      <td>0</td>\n",
              "      <td>0</td>\n",
              "      <td>0</td>\n",
              "      <td>0</td>\n",
              "      <td>NaN</td>\n",
              "    </tr>\n",
              "    <tr>\n",
              "      <th>683</th>\n",
              "      <td>4aaac55b37f3522763699c33a10d7f9a</td>\n",
              "      <td>02/12/2023</td>\n",
              "      <td>02/12/2023</td>\n",
              "      <td>Operacao Simples</td>\n",
              "      <td>Tráfico de Drogas                             ...</td>\n",
              "      <td>RJ</td>\n",
              "      <td>DPF/AIN/RJ                                    ...</td>\n",
              "      <td>Nao</td>\n",
              "      <td>...</td>\n",
              "      <td>1</td>\n",
              "      <td>...</td>\n",
              "      <td>0</td>\n",
              "      <td>0</td>\n",
              "      <td>0</td>\n",
              "      <td>0</td>\n",
              "      <td>0</td>\n",
              "      <td>0</td>\n",
              "      <td>0</td>\n",
              "      <td>0</td>\n",
              "      <td>0</td>\n",
              "      <td>NaN</td>\n",
              "    </tr>\n",
              "    <tr>\n",
              "      <th>684</th>\n",
              "      <td>3d8858b9b87e533499f4f3cf562aba81</td>\n",
              "      <td>02/12/2023</td>\n",
              "      <td>02/12/2023</td>\n",
              "      <td>Operacao Simples</td>\n",
              "      <td>Crimes Fazendários                            ...</td>\n",
              "      <td>SP</td>\n",
              "      <td>DPF/CAS/SP                                    ...</td>\n",
              "      <td>Nao</td>\n",
              "      <td>...</td>\n",
              "      <td>0</td>\n",
              "      <td>...</td>\n",
              "      <td>0</td>\n",
              "      <td>0</td>\n",
              "      <td>0</td>\n",
              "      <td>0</td>\n",
              "      <td>0</td>\n",
              "      <td>0</td>\n",
              "      <td>0</td>\n",
              "      <td>0</td>\n",
              "      <td>0</td>\n",
              "      <td>NaN</td>\n",
              "    </tr>\n",
              "    <tr>\n",
              "      <th>685</th>\n",
              "      <td>f8be22b5f7a9c77c22686ce463e21b77</td>\n",
              "      <td>02/12/2023</td>\n",
              "      <td>02/12/2023</td>\n",
              "      <td>Operacao Simples</td>\n",
              "      <td>Tráfico de Drogas                             ...</td>\n",
              "      <td>SP</td>\n",
              "      <td>DPF/CAS/SP                                    ...</td>\n",
              "      <td>Nao</td>\n",
              "      <td>...</td>\n",
              "      <td>2</td>\n",
              "      <td>...</td>\n",
              "      <td>0</td>\n",
              "      <td>0</td>\n",
              "      <td>0</td>\n",
              "      <td>0</td>\n",
              "      <td>0</td>\n",
              "      <td>0</td>\n",
              "      <td>0</td>\n",
              "      <td>0</td>\n",
              "      <td>0</td>\n",
              "      <td>NaN</td>\n",
              "    </tr>\n",
              "  </tbody>\n",
              "</table>\n",
              "<p>9337 rows × 28 columns</p>\n",
              "</div>\n",
              "    <div class=\"colab-df-buttons\">\n",
              "\n",
              "  <div class=\"colab-df-container\">\n",
              "    <button class=\"colab-df-convert\" onclick=\"convertToInteractive('df-dec27b26-ae97-4e43-b753-b063faf3bfcc')\"\n",
              "            title=\"Convert this dataframe to an interactive table.\"\n",
              "            style=\"display:none;\">\n",
              "\n",
              "  <svg xmlns=\"http://www.w3.org/2000/svg\" height=\"24px\" viewBox=\"0 -960 960 960\">\n",
              "    <path d=\"M120-120v-720h720v720H120Zm60-500h600v-160H180v160Zm220 220h160v-160H400v160Zm0 220h160v-160H400v160ZM180-400h160v-160H180v160Zm440 0h160v-160H620v160ZM180-180h160v-160H180v160Zm440 0h160v-160H620v160Z\"/>\n",
              "  </svg>\n",
              "    </button>\n",
              "\n",
              "  <style>\n",
              "    .colab-df-container {\n",
              "      display:flex;\n",
              "      gap: 12px;\n",
              "    }\n",
              "\n",
              "    .colab-df-convert {\n",
              "      background-color: #E8F0FE;\n",
              "      border: none;\n",
              "      border-radius: 50%;\n",
              "      cursor: pointer;\n",
              "      display: none;\n",
              "      fill: #1967D2;\n",
              "      height: 32px;\n",
              "      padding: 0 0 0 0;\n",
              "      width: 32px;\n",
              "    }\n",
              "\n",
              "    .colab-df-convert:hover {\n",
              "      background-color: #E2EBFA;\n",
              "      box-shadow: 0px 1px 2px rgba(60, 64, 67, 0.3), 0px 1px 3px 1px rgba(60, 64, 67, 0.15);\n",
              "      fill: #174EA6;\n",
              "    }\n",
              "\n",
              "    .colab-df-buttons div {\n",
              "      margin-bottom: 4px;\n",
              "    }\n",
              "\n",
              "    [theme=dark] .colab-df-convert {\n",
              "      background-color: #3B4455;\n",
              "      fill: #D2E3FC;\n",
              "    }\n",
              "\n",
              "    [theme=dark] .colab-df-convert:hover {\n",
              "      background-color: #434B5C;\n",
              "      box-shadow: 0px 1px 3px 1px rgba(0, 0, 0, 0.15);\n",
              "      filter: drop-shadow(0px 1px 2px rgba(0, 0, 0, 0.3));\n",
              "      fill: #FFFFFF;\n",
              "    }\n",
              "  </style>\n",
              "\n",
              "    <script>\n",
              "      const buttonEl =\n",
              "        document.querySelector('#df-dec27b26-ae97-4e43-b753-b063faf3bfcc button.colab-df-convert');\n",
              "      buttonEl.style.display =\n",
              "        google.colab.kernel.accessAllowed ? 'block' : 'none';\n",
              "\n",
              "      async function convertToInteractive(key) {\n",
              "        const element = document.querySelector('#df-dec27b26-ae97-4e43-b753-b063faf3bfcc');\n",
              "        const dataTable =\n",
              "          await google.colab.kernel.invokeFunction('convertToInteractive',\n",
              "                                                    [key], {});\n",
              "        if (!dataTable) return;\n",
              "\n",
              "        const docLinkHtml = 'Like what you see? Visit the ' +\n",
              "          '<a target=\"_blank\" href=https://colab.research.google.com/notebooks/data_table.ipynb>data table notebook</a>'\n",
              "          + ' to learn more about interactive tables.';\n",
              "        element.innerHTML = '';\n",
              "        dataTable['output_type'] = 'display_data';\n",
              "        await google.colab.output.renderOutput(dataTable, element);\n",
              "        const docLink = document.createElement('div');\n",
              "        docLink.innerHTML = docLinkHtml;\n",
              "        element.appendChild(docLink);\n",
              "      }\n",
              "    </script>\n",
              "  </div>\n",
              "\n",
              "\n",
              "<div id=\"df-5e1d8035-696d-433e-8947-1782524aba67\">\n",
              "  <button class=\"colab-df-quickchart\" onclick=\"quickchart('df-5e1d8035-696d-433e-8947-1782524aba67')\"\n",
              "            title=\"Suggest charts\"\n",
              "            style=\"display:none;\">\n",
              "\n",
              "<svg xmlns=\"http://www.w3.org/2000/svg\" height=\"24px\"viewBox=\"0 0 24 24\"\n",
              "     width=\"24px\">\n",
              "    <g>\n",
              "        <path d=\"M19 3H5c-1.1 0-2 .9-2 2v14c0 1.1.9 2 2 2h14c1.1 0 2-.9 2-2V5c0-1.1-.9-2-2-2zM9 17H7v-7h2v7zm4 0h-2V7h2v10zm4 0h-2v-4h2v4z\"/>\n",
              "    </g>\n",
              "</svg>\n",
              "  </button>\n",
              "\n",
              "<style>\n",
              "  .colab-df-quickchart {\n",
              "      --bg-color: #E8F0FE;\n",
              "      --fill-color: #1967D2;\n",
              "      --hover-bg-color: #E2EBFA;\n",
              "      --hover-fill-color: #174EA6;\n",
              "      --disabled-fill-color: #AAA;\n",
              "      --disabled-bg-color: #DDD;\n",
              "  }\n",
              "\n",
              "  [theme=dark] .colab-df-quickchart {\n",
              "      --bg-color: #3B4455;\n",
              "      --fill-color: #D2E3FC;\n",
              "      --hover-bg-color: #434B5C;\n",
              "      --hover-fill-color: #FFFFFF;\n",
              "      --disabled-bg-color: #3B4455;\n",
              "      --disabled-fill-color: #666;\n",
              "  }\n",
              "\n",
              "  .colab-df-quickchart {\n",
              "    background-color: var(--bg-color);\n",
              "    border: none;\n",
              "    border-radius: 50%;\n",
              "    cursor: pointer;\n",
              "    display: none;\n",
              "    fill: var(--fill-color);\n",
              "    height: 32px;\n",
              "    padding: 0;\n",
              "    width: 32px;\n",
              "  }\n",
              "\n",
              "  .colab-df-quickchart:hover {\n",
              "    background-color: var(--hover-bg-color);\n",
              "    box-shadow: 0 1px 2px rgba(60, 64, 67, 0.3), 0 1px 3px 1px rgba(60, 64, 67, 0.15);\n",
              "    fill: var(--button-hover-fill-color);\n",
              "  }\n",
              "\n",
              "  .colab-df-quickchart-complete:disabled,\n",
              "  .colab-df-quickchart-complete:disabled:hover {\n",
              "    background-color: var(--disabled-bg-color);\n",
              "    fill: var(--disabled-fill-color);\n",
              "    box-shadow: none;\n",
              "  }\n",
              "\n",
              "  .colab-df-spinner {\n",
              "    border: 2px solid var(--fill-color);\n",
              "    border-color: transparent;\n",
              "    border-bottom-color: var(--fill-color);\n",
              "    animation:\n",
              "      spin 1s steps(1) infinite;\n",
              "  }\n",
              "\n",
              "  @keyframes spin {\n",
              "    0% {\n",
              "      border-color: transparent;\n",
              "      border-bottom-color: var(--fill-color);\n",
              "      border-left-color: var(--fill-color);\n",
              "    }\n",
              "    20% {\n",
              "      border-color: transparent;\n",
              "      border-left-color: var(--fill-color);\n",
              "      border-top-color: var(--fill-color);\n",
              "    }\n",
              "    30% {\n",
              "      border-color: transparent;\n",
              "      border-left-color: var(--fill-color);\n",
              "      border-top-color: var(--fill-color);\n",
              "      border-right-color: var(--fill-color);\n",
              "    }\n",
              "    40% {\n",
              "      border-color: transparent;\n",
              "      border-right-color: var(--fill-color);\n",
              "      border-top-color: var(--fill-color);\n",
              "    }\n",
              "    60% {\n",
              "      border-color: transparent;\n",
              "      border-right-color: var(--fill-color);\n",
              "    }\n",
              "    80% {\n",
              "      border-color: transparent;\n",
              "      border-right-color: var(--fill-color);\n",
              "      border-bottom-color: var(--fill-color);\n",
              "    }\n",
              "    90% {\n",
              "      border-color: transparent;\n",
              "      border-bottom-color: var(--fill-color);\n",
              "    }\n",
              "  }\n",
              "</style>\n",
              "\n",
              "  <script>\n",
              "    async function quickchart(key) {\n",
              "      const quickchartButtonEl =\n",
              "        document.querySelector('#' + key + ' button');\n",
              "      quickchartButtonEl.disabled = true;  // To prevent multiple clicks.\n",
              "      quickchartButtonEl.classList.add('colab-df-spinner');\n",
              "      try {\n",
              "        const charts = await google.colab.kernel.invokeFunction(\n",
              "            'suggestCharts', [key], {});\n",
              "      } catch (error) {\n",
              "        console.error('Error during call to suggestCharts:', error);\n",
              "      }\n",
              "      quickchartButtonEl.classList.remove('colab-df-spinner');\n",
              "      quickchartButtonEl.classList.add('colab-df-quickchart-complete');\n",
              "    }\n",
              "    (() => {\n",
              "      let quickchartButtonEl =\n",
              "        document.querySelector('#df-5e1d8035-696d-433e-8947-1782524aba67 button');\n",
              "      quickchartButtonEl.style.display =\n",
              "        google.colab.kernel.accessAllowed ? 'block' : 'none';\n",
              "    })();\n",
              "  </script>\n",
              "</div>\n",
              "\n",
              "  <div id=\"id_ee35e57c-a8bf-4613-b4e9-4eec5e10d4bc\">\n",
              "    <style>\n",
              "      .colab-df-generate {\n",
              "        background-color: #E8F0FE;\n",
              "        border: none;\n",
              "        border-radius: 50%;\n",
              "        cursor: pointer;\n",
              "        display: none;\n",
              "        fill: #1967D2;\n",
              "        height: 32px;\n",
              "        padding: 0 0 0 0;\n",
              "        width: 32px;\n",
              "      }\n",
              "\n",
              "      .colab-df-generate:hover {\n",
              "        background-color: #E2EBFA;\n",
              "        box-shadow: 0px 1px 2px rgba(60, 64, 67, 0.3), 0px 1px 3px 1px rgba(60, 64, 67, 0.15);\n",
              "        fill: #174EA6;\n",
              "      }\n",
              "\n",
              "      [theme=dark] .colab-df-generate {\n",
              "        background-color: #3B4455;\n",
              "        fill: #D2E3FC;\n",
              "      }\n",
              "\n",
              "      [theme=dark] .colab-df-generate:hover {\n",
              "        background-color: #434B5C;\n",
              "        box-shadow: 0px 1px 3px 1px rgba(0, 0, 0, 0.15);\n",
              "        filter: drop-shadow(0px 1px 2px rgba(0, 0, 0, 0.3));\n",
              "        fill: #FFFFFF;\n",
              "      }\n",
              "    </style>\n",
              "    <button class=\"colab-df-generate\" onclick=\"generateWithVariable('df')\"\n",
              "            title=\"Generate code using this dataframe.\"\n",
              "            style=\"display:none;\">\n",
              "\n",
              "  <svg xmlns=\"http://www.w3.org/2000/svg\" height=\"24px\"viewBox=\"0 0 24 24\"\n",
              "       width=\"24px\">\n",
              "    <path d=\"M7,19H8.4L18.45,9,17,7.55,7,17.6ZM5,21V16.75L18.45,3.32a2,2,0,0,1,2.83,0l1.4,1.43a1.91,1.91,0,0,1,.58,1.4,1.91,1.91,0,0,1-.58,1.4L9.25,21ZM18.45,9,17,7.55Zm-12,3A5.31,5.31,0,0,0,4.9,8.1,5.31,5.31,0,0,0,1,6.5,5.31,5.31,0,0,0,4.9,4.9,5.31,5.31,0,0,0,6.5,1,5.31,5.31,0,0,0,8.1,4.9,5.31,5.31,0,0,0,12,6.5,5.46,5.46,0,0,0,6.5,12Z\"/>\n",
              "  </svg>\n",
              "    </button>\n",
              "    <script>\n",
              "      (() => {\n",
              "      const buttonEl =\n",
              "        document.querySelector('#id_ee35e57c-a8bf-4613-b4e9-4eec5e10d4bc button.colab-df-generate');\n",
              "      buttonEl.style.display =\n",
              "        google.colab.kernel.accessAllowed ? 'block' : 'none';\n",
              "\n",
              "      buttonEl.onclick = () => {\n",
              "        google.colab.notebook.generateWithVariable('df');\n",
              "      }\n",
              "      })();\n",
              "    </script>\n",
              "  </div>\n",
              "\n",
              "    </div>\n",
              "  </div>\n"
            ],
            "application/vnd.google.colaboratory.intrinsic+json": {
              "type": "dataframe",
              "variable_name": "df"
            }
          },
          "metadata": {},
          "execution_count": 5
        }
      ]
    },
    {
      "cell_type": "markdown",
      "source": [
        "**Aqui contabilizamos quantas \"Data de Deflagracao\" foram registradas em 2023**"
      ],
      "metadata": {
        "id": "SPHCY3X2HfbC"
      }
    },
    {
      "cell_type": "code",
      "source": [
        "print(df['Data da Deflagracao'].count())"
      ],
      "metadata": {
        "id": "uH7mdkbZHXbS",
        "colab": {
          "base_uri": "https://localhost:8080/"
        },
        "outputId": "f102eb38-b93e-4500-8a71-47956e81f110"
      },
      "execution_count": null,
      "outputs": [
        {
          "output_type": "stream",
          "name": "stdout",
          "text": [
            "9337\n"
          ]
        }
      ]
    },
    {
      "cell_type": "markdown",
      "source": [
        "**Importação da lib seaborn para geração de gráfico;**\n",
        "\n",
        "**Importação de módulo Pyplot da lib Matplotlib;**\n",
        "\n",
        "**Importação Numpy para computação científica**"
      ],
      "metadata": {
        "id": "ZUcLuk6Ni1tU"
      }
    },
    {
      "cell_type": "code",
      "source": [
        "import seaborn as sns # importa módulos ou bibliotecas.\n",
        "import matplotlib.pyplot as plt # importa o módulo pyplot da biblioteca Matplotlib, é a biblioteca padrão para criação de gráficos em Python.\n",
        "import numpy as np #O NumPy é uma biblioteca fundamental para computação científica em Python\n",
        "#A parte as np cria um apelido para o módulo NumPy"
      ],
      "metadata": {
        "id": "NN_HxnkYJgi5"
      },
      "execution_count": null,
      "outputs": []
    },
    {
      "cell_type": "markdown",
      "source": [
        "**Aqui buscamos a \"Area\" que mais aparece na base de dados, no ano de 2023.**\n",
        "\n",
        "**E calculamos com o \"count\", a quantidade de vezes que foi listada.**"
      ],
      "metadata": {
        "id": "f3O0YJA2Nmjk"
      }
    },
    {
      "cell_type": "code",
      "source": [
        "from prettytable import PrettyTable\n",
        "\n",
        "contagem_areas = df['Area'].value_counts() #Calcula a frequência de cada valor na coluna \"area\" e armazena o resultado em \"contagem_areas\"\n",
        "contagem_areas # apresenta o resultado na tela\n",
        "\n",
        "# Criar uma tabela PrettyTable\n",
        "tabela_areas = PrettyTable()\n",
        "tabela_areas.field_names = [\"Área\", \"Frequência\"]\n",
        "\n",
        "# Adicionar as linhas à tabela\n",
        "for area, contagem in contagem_areas.items():\n",
        "    tabela_areas.add_row([area, contagem])\n",
        "    tabela_areas.max_width = 50  # Ajuste o valor 100 de acordo com sua necessidade\n",
        "\n",
        "# Imprimir a tabela\n",
        "print(tabela_areas)"
      ],
      "metadata": {
        "id": "BG-ABMNdM_qz",
        "colab": {
          "base_uri": "https://localhost:8080/"
        },
        "outputId": "73656ba1-26fc-4509-dcbc-86809faa1ef9"
      },
      "execution_count": null,
      "outputs": [
        {
          "output_type": "stream",
          "name": "stdout",
          "text": [
            "+----------------------------------------------------+------------+\n",
            "|                        Área                        | Frequência |\n",
            "+----------------------------------------------------+------------+\n",
            "|                 Tráfico de Drogas                  |    2947    |\n",
            "|                 Crimes Fazendários                 |    2891    |\n",
            "|       Crimes de Ódio e Pornografia Infantil        |    885     |\n",
            "|  Crimes Ambientais e Contra o Patrimônio Cultural  |    622     |\n",
            "|                Crimes de Corrupção                 |    583     |\n",
            "|             Crimes Contra o Patrimônio             |    399     |\n",
            "|                  Tráfico de Armas                  |    261     |\n",
            "|           Crimes Contra Direitos Humanos           |    258     |\n",
            "|                 Crimes Financeiros                 |    204     |\n",
            "|               Crimes Previdenciários               |    133     |\n",
            "|                 Fraudes Bancárias                  |     60     |\n",
            "|                 Crimes Eleitorais                  |     48     |\n",
            "|             Crimes da Alta Tecnologia              |     46     |\n",
            "+----------------------------------------------------+------------+\n"
          ]
        }
      ]
    },
    {
      "cell_type": "markdown",
      "source": [
        "**Aqui busco qual \"Area\" e \"Sigla Unidade Federativa\" são mais listadas**"
      ],
      "metadata": {
        "id": "PpqflRasrBoG"
      }
    },
    {
      "cell_type": "code",
      "source": [
        "# Encontra a área mais frequente\n",
        "most_frequent_area = df['Area'].value_counts().idxmax()\n",
        "\n",
        "# Filtra o dataframe pela área mais frequente\n",
        "df_filtered = df[df['Area'] == most_frequent_area]\n",
        "\n",
        "# Encontra a \"Sigla Unidade Federativa\" mais frequente dentro da área filtrada\n",
        "most_frequent_uf = df_filtered['Sigla Unidade Federativa'].value_counts().idxmax()\n",
        "\n",
        "# Exibe o resultado\n",
        "print(f\"A área mais frequente é: {most_frequent_area}\")\n",
        "print(f\"A Sigla Unidade Federativa mais frequente nessa área é: {most_frequent_uf}\")"
      ],
      "metadata": {
        "id": "gWPIs0nMSlS9",
        "colab": {
          "base_uri": "https://localhost:8080/"
        },
        "outputId": "26e5e041-7da6-4603-e8c7-ebe4e08c410c"
      },
      "execution_count": null,
      "outputs": [
        {
          "output_type": "stream",
          "name": "stdout",
          "text": [
            "A área mais frequente é: Tráfico de Drogas                                                                                                               \n",
            "A Sigla Unidade Federativa mais frequente nessa área é: SP\n"
          ]
        }
      ]
    },
    {
      "cell_type": "markdown",
      "source": [
        "**Busco a quantidade de vezes que a ocorrência por \"Area\" foi apresentada;**\n",
        "\n",
        "**E busco a quantidade de \"area\" foi listadas por \"Sigla Unidade Federativa\".**"
      ],
      "metadata": {
        "id": "qnEYD0g7rnoV"
      }
    },
    {
      "cell_type": "code",
      "source": [
        "# Encontra as 3 áreas mais frequentes\n",
        "top_3_areas = df['Area'].value_counts().nlargest(3)\n",
        "\n",
        "# Cria uma lista para armazenar os resultados\n",
        "resultados = []\n",
        "\n",
        "# Itera sobre as 3 áreas mais frequentes\n",
        "for area, contagem_area in top_3_areas.items():\n",
        "    # Filtra o dataframe pela área atual\n",
        "    df_filtered = df[df['Area'] == area]\n",
        "\n",
        "    # Encontra as 3 siglas mais frequentes na área atual\n",
        "    top_3_siglas = df_filtered['Sigla Unidade Federativa'].value_counts().nlargest(3)\n",
        "\n",
        "    # Adiciona os resultados à lista\n",
        "    for sigla, contagem_sigla in top_3_siglas.items():\n",
        "        resultados.append([area, contagem_area, sigla, contagem_sigla])\n",
        "\n",
        "# Cria um DataFrame com os resultados\n",
        "tabela = pd.DataFrame(resultados, columns=['Área', 'Contagem Área', 'Sigla', 'Contagem Sigla'])\n",
        "\n",
        "# Exibe a tabela\n",
        "display(tabela)\n",
        "\n"
      ],
      "metadata": {
        "id": "p--OCUk_T4x7",
        "colab": {
          "base_uri": "https://localhost:8080/",
          "height": 332
        },
        "outputId": "7ae323d7-3a66-4c2d-dcc4-9d5f72518d9c"
      },
      "execution_count": null,
      "outputs": [
        {
          "output_type": "display_data",
          "data": {
            "text/plain": [
              "                                                Área  Contagem Área Sigla  \\\n",
              "0  Tráfico de Drogas                             ...           2947    SP   \n",
              "1  Tráfico de Drogas                             ...           2947    MS   \n",
              "2  Tráfico de Drogas                             ...           2947    PR   \n",
              "3  Crimes Fazendários                            ...           2891    PR   \n",
              "4  Crimes Fazendários                            ...           2891    MS   \n",
              "5  Crimes Fazendários                            ...           2891    SP   \n",
              "6  Crimes de Ódio e Pornografia Infantil         ...            885    SP   \n",
              "7  Crimes de Ódio e Pornografia Infantil         ...            885    PR   \n",
              "8  Crimes de Ódio e Pornografia Infantil         ...            885    RS   \n",
              "\n",
              "   Contagem Sigla  \n",
              "0             684  \n",
              "1             561  \n",
              "2             179  \n",
              "3             528  \n",
              "4             404  \n",
              "5             378  \n",
              "6             148  \n",
              "7              74  \n",
              "8              69  "
            ],
            "text/html": [
              "\n",
              "  <div id=\"df-debc0915-24e7-46a8-9af7-48ef679a38ee\" class=\"colab-df-container\">\n",
              "    <div>\n",
              "<style scoped>\n",
              "    .dataframe tbody tr th:only-of-type {\n",
              "        vertical-align: middle;\n",
              "    }\n",
              "\n",
              "    .dataframe tbody tr th {\n",
              "        vertical-align: top;\n",
              "    }\n",
              "\n",
              "    .dataframe thead th {\n",
              "        text-align: right;\n",
              "    }\n",
              "</style>\n",
              "<table border=\"1\" class=\"dataframe\">\n",
              "  <thead>\n",
              "    <tr style=\"text-align: right;\">\n",
              "      <th></th>\n",
              "      <th>Área</th>\n",
              "      <th>Contagem Área</th>\n",
              "      <th>Sigla</th>\n",
              "      <th>Contagem Sigla</th>\n",
              "    </tr>\n",
              "  </thead>\n",
              "  <tbody>\n",
              "    <tr>\n",
              "      <th>0</th>\n",
              "      <td>Tráfico de Drogas                             ...</td>\n",
              "      <td>2947</td>\n",
              "      <td>SP</td>\n",
              "      <td>684</td>\n",
              "    </tr>\n",
              "    <tr>\n",
              "      <th>1</th>\n",
              "      <td>Tráfico de Drogas                             ...</td>\n",
              "      <td>2947</td>\n",
              "      <td>MS</td>\n",
              "      <td>561</td>\n",
              "    </tr>\n",
              "    <tr>\n",
              "      <th>2</th>\n",
              "      <td>Tráfico de Drogas                             ...</td>\n",
              "      <td>2947</td>\n",
              "      <td>PR</td>\n",
              "      <td>179</td>\n",
              "    </tr>\n",
              "    <tr>\n",
              "      <th>3</th>\n",
              "      <td>Crimes Fazendários                            ...</td>\n",
              "      <td>2891</td>\n",
              "      <td>PR</td>\n",
              "      <td>528</td>\n",
              "    </tr>\n",
              "    <tr>\n",
              "      <th>4</th>\n",
              "      <td>Crimes Fazendários                            ...</td>\n",
              "      <td>2891</td>\n",
              "      <td>MS</td>\n",
              "      <td>404</td>\n",
              "    </tr>\n",
              "    <tr>\n",
              "      <th>5</th>\n",
              "      <td>Crimes Fazendários                            ...</td>\n",
              "      <td>2891</td>\n",
              "      <td>SP</td>\n",
              "      <td>378</td>\n",
              "    </tr>\n",
              "    <tr>\n",
              "      <th>6</th>\n",
              "      <td>Crimes de Ódio e Pornografia Infantil         ...</td>\n",
              "      <td>885</td>\n",
              "      <td>SP</td>\n",
              "      <td>148</td>\n",
              "    </tr>\n",
              "    <tr>\n",
              "      <th>7</th>\n",
              "      <td>Crimes de Ódio e Pornografia Infantil         ...</td>\n",
              "      <td>885</td>\n",
              "      <td>PR</td>\n",
              "      <td>74</td>\n",
              "    </tr>\n",
              "    <tr>\n",
              "      <th>8</th>\n",
              "      <td>Crimes de Ódio e Pornografia Infantil         ...</td>\n",
              "      <td>885</td>\n",
              "      <td>RS</td>\n",
              "      <td>69</td>\n",
              "    </tr>\n",
              "  </tbody>\n",
              "</table>\n",
              "</div>\n",
              "    <div class=\"colab-df-buttons\">\n",
              "\n",
              "  <div class=\"colab-df-container\">\n",
              "    <button class=\"colab-df-convert\" onclick=\"convertToInteractive('df-debc0915-24e7-46a8-9af7-48ef679a38ee')\"\n",
              "            title=\"Convert this dataframe to an interactive table.\"\n",
              "            style=\"display:none;\">\n",
              "\n",
              "  <svg xmlns=\"http://www.w3.org/2000/svg\" height=\"24px\" viewBox=\"0 -960 960 960\">\n",
              "    <path d=\"M120-120v-720h720v720H120Zm60-500h600v-160H180v160Zm220 220h160v-160H400v160Zm0 220h160v-160H400v160ZM180-400h160v-160H180v160Zm440 0h160v-160H620v160ZM180-180h160v-160H180v160Zm440 0h160v-160H620v160Z\"/>\n",
              "  </svg>\n",
              "    </button>\n",
              "\n",
              "  <style>\n",
              "    .colab-df-container {\n",
              "      display:flex;\n",
              "      gap: 12px;\n",
              "    }\n",
              "\n",
              "    .colab-df-convert {\n",
              "      background-color: #E8F0FE;\n",
              "      border: none;\n",
              "      border-radius: 50%;\n",
              "      cursor: pointer;\n",
              "      display: none;\n",
              "      fill: #1967D2;\n",
              "      height: 32px;\n",
              "      padding: 0 0 0 0;\n",
              "      width: 32px;\n",
              "    }\n",
              "\n",
              "    .colab-df-convert:hover {\n",
              "      background-color: #E2EBFA;\n",
              "      box-shadow: 0px 1px 2px rgba(60, 64, 67, 0.3), 0px 1px 3px 1px rgba(60, 64, 67, 0.15);\n",
              "      fill: #174EA6;\n",
              "    }\n",
              "\n",
              "    .colab-df-buttons div {\n",
              "      margin-bottom: 4px;\n",
              "    }\n",
              "\n",
              "    [theme=dark] .colab-df-convert {\n",
              "      background-color: #3B4455;\n",
              "      fill: #D2E3FC;\n",
              "    }\n",
              "\n",
              "    [theme=dark] .colab-df-convert:hover {\n",
              "      background-color: #434B5C;\n",
              "      box-shadow: 0px 1px 3px 1px rgba(0, 0, 0, 0.15);\n",
              "      filter: drop-shadow(0px 1px 2px rgba(0, 0, 0, 0.3));\n",
              "      fill: #FFFFFF;\n",
              "    }\n",
              "  </style>\n",
              "\n",
              "    <script>\n",
              "      const buttonEl =\n",
              "        document.querySelector('#df-debc0915-24e7-46a8-9af7-48ef679a38ee button.colab-df-convert');\n",
              "      buttonEl.style.display =\n",
              "        google.colab.kernel.accessAllowed ? 'block' : 'none';\n",
              "\n",
              "      async function convertToInteractive(key) {\n",
              "        const element = document.querySelector('#df-debc0915-24e7-46a8-9af7-48ef679a38ee');\n",
              "        const dataTable =\n",
              "          await google.colab.kernel.invokeFunction('convertToInteractive',\n",
              "                                                    [key], {});\n",
              "        if (!dataTable) return;\n",
              "\n",
              "        const docLinkHtml = 'Like what you see? Visit the ' +\n",
              "          '<a target=\"_blank\" href=https://colab.research.google.com/notebooks/data_table.ipynb>data table notebook</a>'\n",
              "          + ' to learn more about interactive tables.';\n",
              "        element.innerHTML = '';\n",
              "        dataTable['output_type'] = 'display_data';\n",
              "        await google.colab.output.renderOutput(dataTable, element);\n",
              "        const docLink = document.createElement('div');\n",
              "        docLink.innerHTML = docLinkHtml;\n",
              "        element.appendChild(docLink);\n",
              "      }\n",
              "    </script>\n",
              "  </div>\n",
              "\n",
              "\n",
              "<div id=\"df-19fa2074-13f5-4b47-9523-e85d55f0e640\">\n",
              "  <button class=\"colab-df-quickchart\" onclick=\"quickchart('df-19fa2074-13f5-4b47-9523-e85d55f0e640')\"\n",
              "            title=\"Suggest charts\"\n",
              "            style=\"display:none;\">\n",
              "\n",
              "<svg xmlns=\"http://www.w3.org/2000/svg\" height=\"24px\"viewBox=\"0 0 24 24\"\n",
              "     width=\"24px\">\n",
              "    <g>\n",
              "        <path d=\"M19 3H5c-1.1 0-2 .9-2 2v14c0 1.1.9 2 2 2h14c1.1 0 2-.9 2-2V5c0-1.1-.9-2-2-2zM9 17H7v-7h2v7zm4 0h-2V7h2v10zm4 0h-2v-4h2v4z\"/>\n",
              "    </g>\n",
              "</svg>\n",
              "  </button>\n",
              "\n",
              "<style>\n",
              "  .colab-df-quickchart {\n",
              "      --bg-color: #E8F0FE;\n",
              "      --fill-color: #1967D2;\n",
              "      --hover-bg-color: #E2EBFA;\n",
              "      --hover-fill-color: #174EA6;\n",
              "      --disabled-fill-color: #AAA;\n",
              "      --disabled-bg-color: #DDD;\n",
              "  }\n",
              "\n",
              "  [theme=dark] .colab-df-quickchart {\n",
              "      --bg-color: #3B4455;\n",
              "      --fill-color: #D2E3FC;\n",
              "      --hover-bg-color: #434B5C;\n",
              "      --hover-fill-color: #FFFFFF;\n",
              "      --disabled-bg-color: #3B4455;\n",
              "      --disabled-fill-color: #666;\n",
              "  }\n",
              "\n",
              "  .colab-df-quickchart {\n",
              "    background-color: var(--bg-color);\n",
              "    border: none;\n",
              "    border-radius: 50%;\n",
              "    cursor: pointer;\n",
              "    display: none;\n",
              "    fill: var(--fill-color);\n",
              "    height: 32px;\n",
              "    padding: 0;\n",
              "    width: 32px;\n",
              "  }\n",
              "\n",
              "  .colab-df-quickchart:hover {\n",
              "    background-color: var(--hover-bg-color);\n",
              "    box-shadow: 0 1px 2px rgba(60, 64, 67, 0.3), 0 1px 3px 1px rgba(60, 64, 67, 0.15);\n",
              "    fill: var(--button-hover-fill-color);\n",
              "  }\n",
              "\n",
              "  .colab-df-quickchart-complete:disabled,\n",
              "  .colab-df-quickchart-complete:disabled:hover {\n",
              "    background-color: var(--disabled-bg-color);\n",
              "    fill: var(--disabled-fill-color);\n",
              "    box-shadow: none;\n",
              "  }\n",
              "\n",
              "  .colab-df-spinner {\n",
              "    border: 2px solid var(--fill-color);\n",
              "    border-color: transparent;\n",
              "    border-bottom-color: var(--fill-color);\n",
              "    animation:\n",
              "      spin 1s steps(1) infinite;\n",
              "  }\n",
              "\n",
              "  @keyframes spin {\n",
              "    0% {\n",
              "      border-color: transparent;\n",
              "      border-bottom-color: var(--fill-color);\n",
              "      border-left-color: var(--fill-color);\n",
              "    }\n",
              "    20% {\n",
              "      border-color: transparent;\n",
              "      border-left-color: var(--fill-color);\n",
              "      border-top-color: var(--fill-color);\n",
              "    }\n",
              "    30% {\n",
              "      border-color: transparent;\n",
              "      border-left-color: var(--fill-color);\n",
              "      border-top-color: var(--fill-color);\n",
              "      border-right-color: var(--fill-color);\n",
              "    }\n",
              "    40% {\n",
              "      border-color: transparent;\n",
              "      border-right-color: var(--fill-color);\n",
              "      border-top-color: var(--fill-color);\n",
              "    }\n",
              "    60% {\n",
              "      border-color: transparent;\n",
              "      border-right-color: var(--fill-color);\n",
              "    }\n",
              "    80% {\n",
              "      border-color: transparent;\n",
              "      border-right-color: var(--fill-color);\n",
              "      border-bottom-color: var(--fill-color);\n",
              "    }\n",
              "    90% {\n",
              "      border-color: transparent;\n",
              "      border-bottom-color: var(--fill-color);\n",
              "    }\n",
              "  }\n",
              "</style>\n",
              "\n",
              "  <script>\n",
              "    async function quickchart(key) {\n",
              "      const quickchartButtonEl =\n",
              "        document.querySelector('#' + key + ' button');\n",
              "      quickchartButtonEl.disabled = true;  // To prevent multiple clicks.\n",
              "      quickchartButtonEl.classList.add('colab-df-spinner');\n",
              "      try {\n",
              "        const charts = await google.colab.kernel.invokeFunction(\n",
              "            'suggestCharts', [key], {});\n",
              "      } catch (error) {\n",
              "        console.error('Error during call to suggestCharts:', error);\n",
              "      }\n",
              "      quickchartButtonEl.classList.remove('colab-df-spinner');\n",
              "      quickchartButtonEl.classList.add('colab-df-quickchart-complete');\n",
              "    }\n",
              "    (() => {\n",
              "      let quickchartButtonEl =\n",
              "        document.querySelector('#df-19fa2074-13f5-4b47-9523-e85d55f0e640 button');\n",
              "      quickchartButtonEl.style.display =\n",
              "        google.colab.kernel.accessAllowed ? 'block' : 'none';\n",
              "    })();\n",
              "  </script>\n",
              "</div>\n",
              "\n",
              "  <div id=\"id_128dd7a6-0bef-4b82-9562-f52a9d79124f\">\n",
              "    <style>\n",
              "      .colab-df-generate {\n",
              "        background-color: #E8F0FE;\n",
              "        border: none;\n",
              "        border-radius: 50%;\n",
              "        cursor: pointer;\n",
              "        display: none;\n",
              "        fill: #1967D2;\n",
              "        height: 32px;\n",
              "        padding: 0 0 0 0;\n",
              "        width: 32px;\n",
              "      }\n",
              "\n",
              "      .colab-df-generate:hover {\n",
              "        background-color: #E2EBFA;\n",
              "        box-shadow: 0px 1px 2px rgba(60, 64, 67, 0.3), 0px 1px 3px 1px rgba(60, 64, 67, 0.15);\n",
              "        fill: #174EA6;\n",
              "      }\n",
              "\n",
              "      [theme=dark] .colab-df-generate {\n",
              "        background-color: #3B4455;\n",
              "        fill: #D2E3FC;\n",
              "      }\n",
              "\n",
              "      [theme=dark] .colab-df-generate:hover {\n",
              "        background-color: #434B5C;\n",
              "        box-shadow: 0px 1px 3px 1px rgba(0, 0, 0, 0.15);\n",
              "        filter: drop-shadow(0px 1px 2px rgba(0, 0, 0, 0.3));\n",
              "        fill: #FFFFFF;\n",
              "      }\n",
              "    </style>\n",
              "    <button class=\"colab-df-generate\" onclick=\"generateWithVariable('tabela')\"\n",
              "            title=\"Generate code using this dataframe.\"\n",
              "            style=\"display:none;\">\n",
              "\n",
              "  <svg xmlns=\"http://www.w3.org/2000/svg\" height=\"24px\"viewBox=\"0 0 24 24\"\n",
              "       width=\"24px\">\n",
              "    <path d=\"M7,19H8.4L18.45,9,17,7.55,7,17.6ZM5,21V16.75L18.45,3.32a2,2,0,0,1,2.83,0l1.4,1.43a1.91,1.91,0,0,1,.58,1.4,1.91,1.91,0,0,1-.58,1.4L9.25,21ZM18.45,9,17,7.55Zm-12,3A5.31,5.31,0,0,0,4.9,8.1,5.31,5.31,0,0,0,1,6.5,5.31,5.31,0,0,0,4.9,4.9,5.31,5.31,0,0,0,6.5,1,5.31,5.31,0,0,0,8.1,4.9,5.31,5.31,0,0,0,12,6.5,5.46,5.46,0,0,0,6.5,12Z\"/>\n",
              "  </svg>\n",
              "    </button>\n",
              "    <script>\n",
              "      (() => {\n",
              "      const buttonEl =\n",
              "        document.querySelector('#id_128dd7a6-0bef-4b82-9562-f52a9d79124f button.colab-df-generate');\n",
              "      buttonEl.style.display =\n",
              "        google.colab.kernel.accessAllowed ? 'block' : 'none';\n",
              "\n",
              "      buttonEl.onclick = () => {\n",
              "        google.colab.notebook.generateWithVariable('tabela');\n",
              "      }\n",
              "      })();\n",
              "    </script>\n",
              "  </div>\n",
              "\n",
              "    </div>\n",
              "  </div>\n"
            ],
            "application/vnd.google.colaboratory.intrinsic+json": {
              "type": "dataframe",
              "variable_name": "tabela",
              "summary": "{\n  \"name\": \"tabela\",\n  \"rows\": 9,\n  \"fields\": [\n    {\n      \"column\": \"\\u00c1rea\",\n      \"properties\": {\n        \"dtype\": \"category\",\n        \"num_unique_values\": 3,\n        \"samples\": [\n          \"Tr\\u00e1fico de Drogas                                                                                                               \",\n          \"Crimes Fazend\\u00e1rios                                                                                                              \",\n          \"Crimes de \\u00d3dio e Pornografia Infantil                                                                                           \"\n        ],\n        \"semantic_type\": \"\",\n        \"description\": \"\"\n      }\n    },\n    {\n      \"column\": \"Contagem \\u00c1rea\",\n      \"properties\": {\n        \"dtype\": \"number\",\n        \"std\": 1017,\n        \"min\": 885,\n        \"max\": 2947,\n        \"num_unique_values\": 3,\n        \"samples\": [\n          2947,\n          2891,\n          885\n        ],\n        \"semantic_type\": \"\",\n        \"description\": \"\"\n      }\n    },\n    {\n      \"column\": \"Sigla\",\n      \"properties\": {\n        \"dtype\": \"category\",\n        \"num_unique_values\": 4,\n        \"samples\": [\n          \"MS\",\n          \"RS\",\n          \"SP\"\n        ],\n        \"semantic_type\": \"\",\n        \"description\": \"\"\n      }\n    },\n    {\n      \"column\": \"Contagem Sigla\",\n      \"properties\": {\n        \"dtype\": \"number\",\n        \"std\": 227,\n        \"min\": 69,\n        \"max\": 684,\n        \"num_unique_values\": 9,\n        \"samples\": [\n          74,\n          561,\n          378\n        ],\n        \"semantic_type\": \"\",\n        \"description\": \"\"\n      }\n    }\n  ]\n}"
            }
          },
          "metadata": {}
        }
      ]
    },
    {
      "cell_type": "code",
      "source": [
        "# prompt: Usando o DataFrame tabela: gere um grafico de pizza\n",
        "\n",
        "import matplotlib.pyplot as plt\n",
        "\n",
        "# Calculate the sum of 'Contagem Área' for each area\n",
        "area_counts = tabela.groupby('Área')['Contagem Área'].sum()\n",
        "\n",
        "# Create the pie chart\n",
        "plt.pie(area_counts, labels=area_counts.index, autopct='%1.1f%%')\n",
        "plt.title('Proporção de Crimes por Área')\n",
        "plt.show()\n"
      ],
      "metadata": {
        "id": "OYRr5mJSQbjF",
        "colab": {
          "base_uri": "https://localhost:8080/",
          "height": 279
        },
        "outputId": "f0875712-2518-4bd0-dbc5-f4a23a4500c1"
      },
      "execution_count": null,
      "outputs": [
        {
          "output_type": "display_data",
          "data": {
            "text/plain": [
              "<Figure size 640x480 with 1 Axes>"
            ],
            "image/png": "[encoded data removed]"
          },
          "metadata": {}
        }
      ]
    },
    {
      "cell_type": "markdown",
      "source": [
        "**Apresento as 3 areas com mais ocorrências por UF (obtido em pesquisas anteriores) e gero um gráfico de pizza com a porcentagem de crimes por tipo**"
      ],
      "metadata": {
        "id": "tGqJVrU4s07O"
      }
    },
    {
      "cell_type": "code",
      "source": [
        "data = [\n",
        "    ['Tráfico de Drogas', 2947, 'SP', 684],\n",
        "    ['Tráfico de Drogas', 2947, 'MS', 561],\n",
        "    ['Tráfico de Drogas', 2947, 'PR', 179],\n",
        "    ['Crimes Fazendários', 2891, 'PR', 528],\n",
        "    ['Crimes Fazendários', 2891, 'MS', 404],\n",
        "    ['Crimes Fazendários', 2891, 'SP', 378],\n",
        "    ['Crimes de Ódio e Pornografia Infantil', 885, 'SP', 148],\n",
        "    ['Crimes de Ódio e Pornografia Infantil', 885, 'PR', 74],\n",
        "    ['Crimes de Ódio e Pornografia Infantil', 885, 'RS', 69]\n",
        "]\n",
        "\n",
        "# Criando o DataFrame\n",
        "df = pd.DataFrame(data, columns=['Crime', 'Registros', 'UF', 'Número'])\n",
        "\n",
        "# Verificando o DataFrame (opcional)\n",
        "print(df)\n",
        "\n",
        "# Agrupando os dados por tipo de crime e UF, e calculando a soma\n",
        "df_grouped = df.groupby(['Crime', 'UF']).sum().reset_index()\n",
        "\n",
        "# Agrupando os dados apenas por tipo de crime e calculando a soma\n",
        "df_grouped_crime = df_grouped.groupby('Crime')['Número'].sum()\n",
        "\n",
        "# Criando o gráfico de pizza\n",
        "plt.figure(figsize=(8, 8))\n",
        "plt.pie(df_grouped_crime, labels=df_grouped_crime.index, autopct='%1.1f%%', startangle=90)\n",
        "plt.title('Proporção de Crimes por Tipo')\n",
        "plt.show()"
      ],
      "metadata": {
        "id": "7UQs-Q5rfudT",
        "colab": {
          "base_uri": "https://localhost:8080/",
          "height": 849
        },
        "outputId": "f2c7c9a2-5f54-4f81-d888-2acac19e6daf"
      },
      "execution_count": null,
      "outputs": [
        {
          "output_type": "stream",
          "name": "stdout",
          "text": [
            "                                   Crime  Registros  UF  Número\n",
            "0                      Tráfico de Drogas       2947  SP     684\n",
            "1                      Tráfico de Drogas       2947  MS     561\n",
            "2                      Tráfico de Drogas       2947  PR     179\n",
            "3                     Crimes Fazendários       2891  PR     528\n",
            "4                     Crimes Fazendários       2891  MS     404\n",
            "5                     Crimes Fazendários       2891  SP     378\n",
            "6  Crimes de Ódio e Pornografia Infantil        885  SP     148\n",
            "7  Crimes de Ódio e Pornografia Infantil        885  PR      74\n",
            "8  Crimes de Ódio e Pornografia Infantil        885  RS      69\n"
          ]
        },
        {
          "output_type": "display_data",
          "data": {
            "text/plain": [
              "<Figure size 800x800 with 1 Axes>"
            ],
            "image/png": "[encoded data removed]"
          },
          "metadata": {}
        }
      ]
    },
    {
      "cell_type": "markdown",
      "source": [
        "**Apresento as 3 areas com mais ocorrências por UF (obtido em pesquisas anteriores) e gero um gráfico de colunas com o crime, UF e quantidade de evidências**"
      ],
      "metadata": {
        "id": "oj5VC6svBdyP"
      }
    },
    {
      "cell_type": "code",
      "source": [
        "data = [\n",
        "['Tráfico de Drogas', 2947, 'SP', 684],\n",
        "['Tráfico de Drogas', 2947, 'MS', 561],\n",
        "['Tráfico de Drogas', 2947, 'PR', 179],\n",
        "['Crimes Fazendários', 2891, 'PR', 528],\n",
        "['Crimes Fazendários', 2891, 'MS', 404],\n",
        "['Crimes Fazendários', 2891, 'SP', 378],\n",
        "['Ódio e P. Infantil', 885, 'SP', 148],\n",
        "['Ódio e P. Infantil', 885, 'PR', 74],\n",
        "['Ódio e P. Infantil', 885, 'RS', 69]\n",
        "]\n",
        "\n",
        "# Criando o DataFrame\n",
        "df = pd.DataFrame(data, columns=['Crime', 'Registros', 'UF', 'Número'])\n",
        "\n",
        "# Verificando o DataFrame (opcional)\n",
        "print(df)\n",
        "\n",
        "# Agrupando os dados por tipo de crime e UF, e calculando a soma\n",
        "df_grouped = df.groupby(['Crime', 'UF']).sum().reset_index()\n",
        "\n",
        "# Criando o gráfico de barras\n",
        "plt.figure(figsize=(10, 6))\n",
        "plt.bar(df_grouped['Crime'] + '_' + df_grouped['UF'], df_grouped['Número'])\n",
        "plt.xlabel('Crime e UF')\n",
        "plt.ylabel('Número de Ocorrências')\n",
        "plt.title('Ocorrências de Crimes por Tipo e UF')\n",
        "plt.xticks(rotation=45)\n",
        "plt.show()"
      ],
      "metadata": {
        "id": "CYY73dv7g-MB",
        "colab": {
          "base_uri": "https://localhost:8080/",
          "height": 850
        },
        "outputId": "c3744fbb-91ae-4403-cb5f-26f6ad11682c"
      },
      "execution_count": null,
      "outputs": [
        {
          "output_type": "stream",
          "name": "stdout",
          "text": [
            "                Crime  Registros  UF  Número\n",
            "0   Tráfico de Drogas       2947  SP     684\n",
            "1   Tráfico de Drogas       2947  MS     561\n",
            "2   Tráfico de Drogas       2947  PR     179\n",
            "3  Crimes Fazendários       2891  PR     528\n",
            "4  Crimes Fazendários       2891  MS     404\n",
            "5  Crimes Fazendários       2891  SP     378\n",
            "6  Ódio e P. Infantil        885  SP     148\n",
            "7  Ódio e P. Infantil        885  PR      74\n",
            "8  Ódio e P. Infantil        885  RS      69\n"
          ]
        },
        {
          "output_type": "display_data",
          "data": {
            "text/plain": [
              "<Figure size 1000x600 with 1 Axes>"
            ],
            "image/png": "[encoded data removed]"
          },
          "metadata": {}
        }
      ]
    },
    {
      "cell_type": "markdown",
      "source": [
        "**Com base nos resultados obtidos, gero um gráfico de quantidade de ocorrências por UF e area**"
      ],
      "metadata": {
        "id": "SC2odP31tpK-"
      }
    },
    {
      "cell_type": "code",
      "source": [
        "# Criando um DataFrame a partir dos dados (ajuste os valores conforme necessário)\n",
        "data = {'Área': ['Tráfico de Drogas', 'Tráfico de Drogas', 'Tráfico de Drogas', 'C. Fazendários', 'C. Fazendários', 'C. Fazendários', 'Ódio e Porn.Inf.', 'Ódio e Porn.Inf.', 'Ódio e Porn.Inf.'],\n",
        "        'Contagem': [684, 561, 179, 528, 404, 378, 148, 74, 69],\n",
        "        'Sigla': ['SP', 'MS', 'PR', 'PR', 'MS', 'SP', 'SP', 'PR', 'RS']}\n",
        "df = pd.DataFrame(data)\n",
        "\n",
        "# Criando o gráfico de barras agrupadas\n",
        "sns.barplot(x='Área', y='Contagem', hue='Sigla', data=df)\n",
        "plt.title('Ocorrências por Tipo de Crime e Estado')\n",
        "plt.xlabel('Tipo de Crime')\n",
        "plt.ylabel('Número de Ocorrências')\n",
        "plt.show()"
      ],
      "metadata": {
        "id": "j2di-LNCxSgX",
        "colab": {
          "base_uri": "https://localhost:8080/",
          "height": 473
        },
        "outputId": "c1dd2221-7792-4949-8817-dabcddb3a94e"
      },
      "execution_count": null,
      "outputs": [
        {
          "output_type": "display_data",
          "data": {
            "text/plain": [
              "<Figure size 640x480 with 1 Axes>"
            ],
            "image/png": "[encoded data removed]"
          },
          "metadata": {}
        }
      ]
    },
    {
      "cell_type": "markdown",
      "source": [
        "**Busco na base de dados, qual área e Estado aparecem mais vezes na base. E qual o mês que foi registrado mais ocorrências em geral.**"
      ],
      "metadata": {
        "id": "mKOXRAMJ-fJz"
      }
    },
    {
      "cell_type": "markdown",
      "source": [
        "Remontamos a base de dados concatenada"
      ],
      "metadata": {
        "id": "rHARC4ws3eDk"
      }
    },
    {
      "cell_type": "code",
      "source": [
        "dataframes = [] #esse comando cria uma lista vazia chamada \"dataframes\".\n",
        "bases = [] #Importando e Concatenando Múltiplos Arquivos CSV, o \"{1}\" faz com que mude o n° de cada arquivo (1 a 12)\n",
        "\n",
        "for i in [\"01\", \"02\", \"03\", \"04\", \"05\", \"06\", \"07\", \"08\", \"09\", \"10\", \"11\", \"12\"] :\n",
        "  bases.append(pd.read_csv(f'/content/drive/MyDrive/ColabNotebooks/PALAS_OPERACOES_2023_{i}.csv', encoding = \"latin-1\", sep = \";\"))\n",
        "  df = pd.concat(bases) #concatena múltiplos DataFrames (tabelas) em um único DataFrame, essencialmente \"empilhando-os\" um em cima do outro."
      ],
      "metadata": {
        "id": "XO-z_RgB3c2c"
      },
      "execution_count": null,
      "outputs": []
    },
    {
      "cell_type": "code",
      "source": [
        "# Verifica se a coluna 'Area' existe antes de usar\n",
        "if 'Area' in df.columns:\n",
        "    most_frequent_area = df['Area'].mode()[0]\n",
        "else:\n",
        "    print(\"A coluna 'Area' não existe no DataFrame.\")\n",
        "\n",
        "# Find the most frequent area\n",
        "most_frequent_area = df['Area'].mode()[0]\n",
        "\n",
        "# Find the most frequent \"Sigla Unidade Federativa\"\n",
        "most_frequent_uf = df['Sigla Unidade Federativa'].mode()[0]\n",
        "\n",
        "# Extract the month from \"Data da Deflagracao\" and convert to numeric month\n",
        "df['Month'] = pd.to_datetime(df['Data da Deflagracao'], format='%d/%m/%Y', errors='coerce').dt.month\n",
        "\n",
        "# Find the most frequent month\n",
        "most_frequent_month = df['Month'].mode()[0]\n",
        "\n",
        "# Print the results\n",
        "print(f\"A área mais frequente é: {most_frequent_area}\")\n",
        "print(f\"A Sigla Unidade Federativa mais frequente é: {most_frequent_uf}\")\n",
        "print(f\"O mês com mais ocorrências é: {most_frequent_month}\")"
      ],
      "metadata": {
        "id": "1o9Ow1UAVPom",
        "colab": {
          "base_uri": "https://localhost:8080/"
        },
        "outputId": "3337488f-798a-422e-955c-aa75de6e578f"
      },
      "execution_count": null,
      "outputs": [
        {
          "output_type": "stream",
          "name": "stdout",
          "text": [
            "A área mais frequente é: Tráfico de Drogas                                                                                                               \n",
            "A Sigla Unidade Federativa mais frequente é: SP\n",
            "O mês com mais ocorrências é: 10\n"
          ]
        }
      ]
    },
    {
      "cell_type": "markdown",
      "source": [
        "Busco mês a mês, a Deflagração mais frequente por Estado em 2023. Uso a lib PrettyTable para gerar uma tabela de fácil entendimento.\n",
        "\n"
      ],
      "metadata": {
        "id": "_x1x_LUqYdkH"
      }
    },
    {
      "cell_type": "code",
      "source": [
        "from prettytable import PrettyTable\n",
        "\n",
        "# Encontra a área e a unidade federativa mais frequentes\n",
        "area_mais_frequente = df['Area'].value_counts().idxmax()\n",
        "uf_mais_frequente = df['Sigla Unidade Federativa'].value_counts().idxmax()\n",
        "\n",
        "print(f\"A área mais frequente é: {area_mais_frequente}\")\n",
        "print(f\"A unidade federativa mais frequente é: {uf_mais_frequente}\")\n",
        "\n",
        "# Extrai o mês da coluna \"Data da Deflagracao\"\n",
        "df['Mes'] = df['Data da Deflagracao'].str.split('/').str[1]\n",
        "\n",
        "# Cria um dicionário para armazenar as contagens mensais\n",
        "contagens_mensais = {}\n",
        "\n",
        "# Itera pelos meses\n",
        "for mes in range(1, 13):\n",
        "    mes_str = str(mes).zfill(2)\n",
        "    df_mes = df[df['Mes'] == mes_str]\n",
        "\n",
        "    # Encontra a área, UF e mês mais frequentes para o mês atual\n",
        "    area_mes = df_mes['Area'].value_counts().idxmax()\n",
        "    uf_mes = df_mes['Sigla Unidade Federativa'].value_counts().idxmax()\n",
        "\n",
        "    contagens_mensais[mes_str] = {'area': area_mes, 'uf': uf_mes}\n",
        "\n",
        "# Imprime os resultados mensais\n",
        "for mes, contagem in contagens_mensais.items():\n",
        "    print(f\"Mês: {mes}\")\n",
        "    print(f\"  Área mais frequente: {contagem['area']}\")\n",
        "    print(f\"  UF mais frequente: {contagem['uf']}\")\n",
        "\n",
        "# Criar uma tabela PrettyTable\n",
        "tabela = PrettyTable()\n",
        "tabela.field_names = [\"Mês\", \"Área Mais Frequente\", \"UF Mais Frequente\"]\n",
        "\n",
        "# Definir a largura máxima para a coluna \"Área Mais Frequente\"\n",
        "tabela.max_width = 80  # Ajuste este valor conforme necessário\n",
        "\n",
        "# Adicionar as linhas à tabela\n",
        "for mes, contagem in contagens_mensais.items():\n",
        "    # Abreviar o nome da área (opcional)\n",
        "    area_abreviada = contagem['area'][:15]  # Abrevia para os primeiros 15 caracteres\n",
        "    tabela.add_row([mes, area_abreviada, contagem['uf']])\n",
        "\n",
        "# Imprimir a tabela\n",
        "print(tabela)"
      ],
      "metadata": {
        "id": "k4SqH8Xff-1m",
        "colab": {
          "base_uri": "https://localhost:8080/"
        },
        "outputId": "d5bfaf39-84d2-4357-c55a-4bfd87505d46"
      },
      "execution_count": null,
      "outputs": [
        {
          "output_type": "stream",
          "name": "stdout",
          "text": [
            "A área mais frequente é: Tráfico de Drogas                                                                                                               \n",
            "A unidade federativa mais frequente é: SP\n",
            "Mês: 01\n",
            "  Área mais frequente: Crimes Fazendários                                                                                                              \n",
            "  UF mais frequente: PR\n",
            "Mês: 02\n",
            "  Área mais frequente: Crimes Fazendários                                                                                                              \n",
            "  UF mais frequente: SP\n",
            "Mês: 03\n",
            "  Área mais frequente: Tráfico de Drogas                                                                                                               \n",
            "  UF mais frequente: SP\n",
            "Mês: 04\n",
            "  Área mais frequente: Tráfico de Drogas                                                                                                               \n",
            "  UF mais frequente: SP\n",
            "Mês: 05\n",
            "  Área mais frequente: Tráfico de Drogas                                                                                                               \n",
            "  UF mais frequente: SP\n",
            "Mês: 06\n",
            "  Área mais frequente: Tráfico de Drogas                                                                                                               \n",
            "  UF mais frequente: MS\n",
            "Mês: 07\n",
            "  Área mais frequente: Tráfico de Drogas                                                                                                               \n",
            "  UF mais frequente: SP\n",
            "Mês: 08\n",
            "  Área mais frequente: Tráfico de Drogas                                                                                                               \n",
            "  UF mais frequente: SP\n",
            "Mês: 09\n",
            "  Área mais frequente: Crimes Fazendários                                                                                                              \n",
            "  UF mais frequente: SP\n",
            "Mês: 10\n",
            "  Área mais frequente: Crimes Fazendários                                                                                                              \n",
            "  UF mais frequente: SP\n",
            "Mês: 11\n",
            "  Área mais frequente: Crimes Fazendários                                                                                                              \n",
            "  UF mais frequente: SP\n",
            "Mês: 12\n",
            "  Área mais frequente: Crimes Fazendários                                                                                                              \n",
            "  UF mais frequente: SP\n",
            "+-----+---------------------+-------------------+\n",
            "| Mês | Área Mais Frequente | UF Mais Frequente |\n",
            "+-----+---------------------+-------------------+\n",
            "|  01 |   Crimes Fazendár   |         PR        |\n",
            "|  02 |   Crimes Fazendár   |         SP        |\n",
            "|  03 |   Tráfico de Drog   |         SP        |\n",
            "|  04 |   Tráfico de Drog   |         SP        |\n",
            "|  05 |   Tráfico de Drog   |         SP        |\n",
            "|  06 |   Tráfico de Drog   |         MS        |\n",
            "|  07 |   Tráfico de Drog   |         SP        |\n",
            "|  08 |   Tráfico de Drog   |         SP        |\n",
            "|  09 |   Crimes Fazendár   |         SP        |\n",
            "|  10 |   Crimes Fazendár   |         SP        |\n",
            "|  11 |   Crimes Fazendár   |         SP        |\n",
            "|  12 |   Crimes Fazendár   |         SP        |\n",
            "+-----+---------------------+-------------------+\n"
          ]
        }
      ]
    },
    {
      "cell_type": "markdown",
      "source": [
        "**Filtramos a quantidade de deflagraçoes mensalmente em SP, mês a mês, no ano de 2023.**"
      ],
      "metadata": {
        "id": "fVx5HYkp4rHO"
      }
    },
    {
      "cell_type": "code",
      "source": [
        "from prettytable import PrettyTable\n",
        "\n",
        "# Certifique-se de que 'df' contém a coluna 'Data da Deflagracao' e 'Sigla Unidade Federativa'\n",
        "df_sp = df[df['Sigla Unidade Federativa'] == 'SP'].copy()  # Crie uma cópia explícita\n",
        "\n",
        "# Extraia o mês da coluna 'Data da Deflagracao'\n",
        "df_sp.loc[:, 'Mes'] = pd.to_datetime(df_sp['Data da Deflagracao'], format='%d/%m/%Y', errors='coerce').dt.month\n",
        "\n",
        "# Conte as deflagrações por mês\n",
        "contagem_mensal = df_sp['Mes'].value_counts().sort_index()\n",
        "\n",
        "# Imprima os resultados\n",
        "print(\"Deflagrações mensais em SP no ano de 2023:\")\n",
        "for mes, contagem in contagem_mensal.items():\n",
        "    print(f\"Mês {mes}: {contagem} deflagrações\")\n",
        "\n",
        "    # Cria uma tabela PrettyTable\n",
        "tabela_deflagracoes = PrettyTable()\n",
        "tabela_deflagracoes.field_names = [\"Mês\", \"Quantidade de Deflagrações\"]\n",
        "\n",
        "# Adiciona as linhas à tabela\n",
        "for mes, contagem in contagem_mensal.items():\n",
        "    tabela_deflagracoes.add_row([mes, contagem])\n",
        "\n",
        "# Imprime a tabela\n",
        "print(tabela_deflagracoes)"
      ],
      "metadata": {
        "id": "NLo_h0Z5pDAI",
        "colab": {
          "base_uri": "https://localhost:8080/"
        },
        "outputId": "7e3677a5-0f31-4134-cf30-91ef90caefc0"
      },
      "execution_count": null,
      "outputs": [
        {
          "output_type": "stream",
          "name": "stdout",
          "text": [
            "Deflagrações mensais em SP no ano de 2023:\n",
            "Mês 1: 100 deflagrações\n",
            "Mês 2: 120 deflagrações\n",
            "Mês 3: 85 deflagrações\n",
            "Mês 4: 137 deflagrações\n",
            "Mês 5: 222 deflagrações\n",
            "Mês 6: 107 deflagrações\n",
            "Mês 7: 115 deflagrações\n",
            "Mês 8: 44 deflagrações\n",
            "Mês 9: 150 deflagrações\n",
            "Mês 10: 175 deflagrações\n",
            "Mês 11: 151 deflagrações\n",
            "Mês 12: 116 deflagrações\n",
            "+-----+----------------------------+\n",
            "| Mês | Quantidade de Deflagrações |\n",
            "+-----+----------------------------+\n",
            "|  1  |            100             |\n",
            "|  2  |            120             |\n",
            "|  3  |             85             |\n",
            "|  4  |            137             |\n",
            "|  5  |            222             |\n",
            "|  6  |            107             |\n",
            "|  7  |            115             |\n",
            "|  8  |             44             |\n",
            "|  9  |            150             |\n",
            "|  10 |            175             |\n",
            "|  11 |            151             |\n",
            "|  12 |            116             |\n",
            "+-----+----------------------------+\n"
          ]
        }
      ]
    },
    {
      "cell_type": "markdown",
      "source": [
        "**Calculando a média de deflagrações mensais em SP, com base nos dados emitidos na consulta anterior**"
      ],
      "metadata": {
        "id": "VTQUXBr_CNE8"
      }
    },
    {
      "cell_type": "code",
      "source": [
        "import pandas as pd\n",
        "import matplotlib.pyplot as plt\n",
        "\n",
        "# Criando um DataFrame com os dados\n",
        "dados = {'Mes': [1, 2, 3, 4, 5, 6, 7, 8, 9, 10, 11, 12],\n",
        "         'Deflagracoes': [100, 120, 85, 137, 222, 107, 115, 44, 150, 175, 151, 116]}\n",
        "df = pd.DataFrame(dados)\n",
        "\n",
        "# Calculando a média\n",
        "media = df['Deflagracoes'].mean()\n",
        "print(f\"A média de deflagrações por mês é: {media:.2f}\")\n",
        "\n",
        "# Criando o gráfico de linhas\n",
        "plt.plot(df['Mes'], df['Deflagracoes'])\n",
        "plt.xlabel('Mês')\n",
        "plt.ylabel('Número de Deflagrações')\n",
        "plt.title('Deflagrações por Tráfico de Drogas em SP')\n",
        "plt.grid(True)\n",
        "plt.show()"
      ],
      "metadata": {
        "colab": {
          "base_uri": "https://localhost:8080/",
          "height": 489
        },
        "id": "L-f_rl6UCK3l",
        "outputId": "215e141c-8f59-4b39-8d91-cbb0331adb72"
      },
      "execution_count": null,
      "outputs": [
        {
          "output_type": "stream",
          "name": "stdout",
          "text": [
            "A média de deflagrações por mês é: 126.83\n"
          ]
        },
        {
          "output_type": "display_data",
          "data": {
            "text/plain": [
              "<Figure size 640x480 with 1 Axes>"
            ],
            "image/png": "[encoded data removed]"
          },
          "metadata": {}
        }
      ]
    },
    {
      "cell_type": "markdown",
      "source": [
        "**(Importação da lib Prettylab para para criar tabelas bonitas no terminal)**\n",
        "\n",
        "Aqui, filtramos a quantidade de operações feitas em 2023 pela PRF, por ÁREA"
      ],
      "metadata": {
        "id": "l276aN1cQRyK"
      }
    },
    {
      "cell_type": "markdown",
      "source": [
        "Remontamos a base concatenada"
      ],
      "metadata": {
        "id": "02xyzxWe3sKd"
      }
    },
    {
      "cell_type": "code",
      "source": [
        "dataframes = [] #esse comando cria uma lista vazia chamada \"dataframes\".\n",
        "bases = [] #Importando e Concatenando Múltiplos Arquivos CSV, o \"{1}\" faz com que mude o n° de cada arquivo (1 a 12)\n",
        "\n",
        "for i in [\"01\", \"02\", \"03\", \"04\", \"05\", \"06\", \"07\", \"08\", \"09\", \"10\", \"11\", \"12\"] :\n",
        "  bases.append(pd.read_csv(f'/content/drive/MyDrive/ColabNotebooks/PALAS_OPERACOES_2023_{i}.csv', encoding = \"latin-1\", sep = \";\"))\n",
        "  df = pd.concat(bases) #concatena múltiplos DataFrames (tabelas) em um único DataFrame, essencialmente \"empilhando-os\" um em cima do outro."
      ],
      "metadata": {
        "id": "h4PtgbZq3nO8"
      },
      "execution_count": null,
      "outputs": []
    },
    {
      "cell_type": "code",
      "source": [
        "from prettytable import PrettyTable\n",
        "\n",
        "# Calcula a quantidade de operações por área\n",
        "contagem_por_area = df.groupby('Area')['Tipo de Operacao'].count()\n",
        "\n",
        "# Cria uma tabela PrettyTable\n",
        "tabela = PrettyTable()\n",
        "tabela.field_names = [\"Área\", \"Quantidade de Operações\"]\n",
        "\n",
        "# Adiciona as linhas à tabela\n",
        "for area, contagem in contagem_por_area.items():\n",
        "    tabela.add_row([area, contagem])\n",
        "    tabela.max_width = 50  # Ajuste o valor 100 de acordo com sua necessidade\n",
        "\n",
        "\n",
        "# Imprime a tabela\n",
        "print(tabela)"
      ],
      "metadata": {
        "id": "RWozpRZcMKRO",
        "colab": {
          "base_uri": "https://localhost:8080/"
        },
        "outputId": "744cf1d4-5ede-40b5-b50f-d11968e07554"
      },
      "execution_count": null,
      "outputs": [
        {
          "output_type": "stream",
          "name": "stdout",
          "text": [
            "+----------------------------------------------------+-------------------------+\n",
            "|                        Área                        | Quantidade de Operações |\n",
            "+----------------------------------------------------+-------------------------+\n",
            "|  Crimes Ambientais e Contra o Patrimônio Cultural  |           622           |\n",
            "|           Crimes Contra Direitos Humanos           |           258           |\n",
            "|             Crimes Contra o Patrimônio             |           399           |\n",
            "|                 Crimes Eleitorais                  |            48           |\n",
            "|                 Crimes Fazendários                 |           2891          |\n",
            "|                 Crimes Financeiros                 |           204           |\n",
            "|               Crimes Previdenciários               |           133           |\n",
            "|             Crimes da Alta Tecnologia              |            46           |\n",
            "|                Crimes de Corrupção                 |           583           |\n",
            "|       Crimes de Ódio e Pornografia Infantil        |           885           |\n",
            "|                 Fraudes Bancárias                  |            60           |\n",
            "|                  Tráfico de Armas                  |           261           |\n",
            "|                 Tráfico de Drogas                  |           2947          |\n",
            "+----------------------------------------------------+-------------------------+\n"
          ]
        }
      ]
    },
    {
      "cell_type": "code",
      "source": [
        "area_mais_operacoes = df.groupby('Area')['Tipo de Operacao'].count().idxmax()\n",
        "contagem_operacoes = df.groupby('Area')['Tipo de Operacao'].count().max()\n",
        "\n",
        "print(f\"A área com mais operações é: {area_mais_operacoes}, com um total de {contagem_operacoes} operações.\")"
      ],
      "metadata": {
        "id": "qFHe-QvrRFAA",
        "colab": {
          "base_uri": "https://localhost:8080/"
        },
        "outputId": "a54ec5a5-5ddb-4ab2-93b3-1283a08ffaa2"
      },
      "execution_count": null,
      "outputs": [
        {
          "output_type": "stream",
          "name": "stdout",
          "text": [
            "A área com mais operações é: Tráfico de Drogas                                                                                                               , com um total de 2947 operações.\n"
          ]
        }
      ]
    },
    {
      "cell_type": "markdown",
      "source": [
        "**Filtramos a quantidade de operações por \"Tipo\" registradas em 2023**"
      ],
      "metadata": {
        "id": "9r7mMuwhR5cJ"
      }
    },
    {
      "cell_type": "code",
      "source": [
        "# Group by 'Tipo de Operacao' and count occurrences\n",
        "contagem_por_tipo = df.groupby('Tipo de Operacao')['Tipo de Operacao'].count()\n",
        "\n",
        "# Print the count for each operation type\n",
        "print(contagem_por_tipo)\n",
        "\n",
        "# Calculate the total number of operations\n",
        "total_operacoes = contagem_por_tipo.sum()\n",
        "\n",
        "# Print the total count\n",
        "print(f\"\\nTotal de operações: {total_operacoes}\")\n",
        "\n",
        "# Find the area with the most operations and its count\n",
        "area_mais_operacoes = df.groupby('Area')['Tipo de Operacao'].count().idxmax()\n",
        "contagem_operacoes = df.groupby('Area')['Tipo de Operacao'].count().max()\n",
        "\n",
        "# Print the area with the most operations\n",
        "print(f\"\\nA área com mais operações é: {area_mais_operacoes}, com um total de {contagem_operacoes} operações.\")\n",
        "\n",
        "# Calcular a porcentagem de cada tipo de operação\n",
        "porcentagens = (contagem_por_tipo / total_operacoes) * 100\n",
        "\n",
        "# Criar o gráfico de pizza\n",
        "plt.pie(porcentagens, labels=porcentagens.index, autopct='%1.1f%%', startangle=90)\n",
        "plt.title('Distribuição Percentual dos Tipos de Operação')\n",
        "plt.show()"
      ],
      "metadata": {
        "id": "UhkHFKcPRz-o",
        "colab": {
          "base_uri": "https://localhost:8080/",
          "height": 622
        },
        "outputId": "312eae6d-291c-4d7e-e3bb-9e5f9d264e6b"
      },
      "execution_count": null,
      "outputs": [
        {
          "output_type": "stream",
          "name": "stdout",
          "text": [
            "Tipo de Operacao\n",
            "Operacao Comum        902\n",
            "Operacao Especial    1569\n",
            "Operacao Simples     4134\n",
            "Operacao de Apoio    2732\n",
            "Name: Tipo de Operacao, dtype: int64\n",
            "\n",
            "Total de operações: 9337\n",
            "\n",
            "A área com mais operações é: Tráfico de Drogas                                                                                                               , com um total de 2947 operações.\n"
          ]
        },
        {
          "output_type": "display_data",
          "data": {
            "text/plain": [
              "<Figure size 640x480 with 1 Axes>"
            ],
            "image/png": "[encoded data removed]"
          },
          "metadata": {}
        }
      ]
    }
  ]
}